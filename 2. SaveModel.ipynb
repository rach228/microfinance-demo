{
 "cells": [
  {
   "cell_type": "code",
   "execution_count": 1,
   "id": "d7fc999f-817a-435a-af01-a8bf4a0ff421",
   "metadata": {},
   "outputs": [
    {
     "name": "stdout",
     "output_type": "stream",
     "text": [
      "Requirement already satisfied: boto3 in /opt/app-root/lib64/python3.11/site-packages (1.35.34)\n",
      "Requirement already satisfied: botocore in /opt/app-root/lib64/python3.11/site-packages (1.35.34)\n",
      "Requirement already satisfied: jmespath<2.0.0,>=0.7.1 in /opt/app-root/lib64/python3.11/site-packages (from boto3) (1.0.1)\n",
      "Requirement already satisfied: s3transfer<0.11.0,>=0.10.0 in /opt/app-root/lib64/python3.11/site-packages (from boto3) (0.10.2)\n",
      "Requirement already satisfied: python-dateutil<3.0.0,>=2.1 in /opt/app-root/lib64/python3.11/site-packages (from botocore) (2.9.0.post0)\n",
      "Requirement already satisfied: urllib3!=2.2.0,<3,>=1.25.4 in /opt/app-root/lib64/python3.11/site-packages (from botocore) (1.26.20)\n",
      "Requirement already satisfied: six>=1.5 in /opt/app-root/lib64/python3.11/site-packages (from python-dateutil<3.0.0,>=2.1->botocore) (1.16.0)\n",
      "\n",
      "\u001b[1m[\u001b[0m\u001b[34;49mnotice\u001b[0m\u001b[1;39;49m]\u001b[0m\u001b[39;49m A new release of pip is available: \u001b[0m\u001b[31;49m23.2.1\u001b[0m\u001b[39;49m -> \u001b[0m\u001b[32;49m24.3.1\u001b[0m\n",
      "\u001b[1m[\u001b[0m\u001b[34;49mnotice\u001b[0m\u001b[1;39;49m]\u001b[0m\u001b[39;49m To update, run: \u001b[0m\u001b[32;49mpip install --upgrade pip\u001b[0m\n"
     ]
    }
   ],
   "source": [
    "!pip install boto3 botocore"
   ]
  },
  {
   "cell_type": "code",
   "execution_count": 2,
   "id": "ff88aa8c-705e-40bc-9c9a-f3d79c35bf11",
   "metadata": {},
   "outputs": [
    {
     "name": "stdout",
     "output_type": "stream",
     "text": [
      "Uploading models/1/xgb_classifier.onnx to s3://test/models/1/xgb_classifier.onnx\n",
      "File uploaded successfully to s3://test/models/1/xgb_classifier.onnx\n",
      "\n",
      "Uploaded files in S3 under 'models':\n",
      "models/1/xgb_classifier.onnx\n",
      "models/pytorch_model-00001-of-00002.bin\n",
      "models/pytorch_model-00002-of-00002.bin\n",
      "models/pytorch_model.bin.index.json\n",
      "models/special_tokens_map.json\n",
      "models/tokenizer.model\n",
      "models/tokenizer_config.json\n",
      "models/vicuna/README.md\n",
      "models/vicuna/config.json\n",
      "models/vicuna/generation_config.json\n"
     ]
    }
   ],
   "source": [
    "import os\n",
    "import boto3\n",
    "import botocore\n",
    "\n",
    "# Retrieve AWS credentials and S3 connection details from environment variables\n",
    "aws_access_key_id = os.environ.get('AWS_ACCESS_KEY_ID')\n",
    "aws_secret_access_key = os.environ.get('AWS_SECRET_ACCESS_KEY')\n",
    "endpoint_url = os.environ.get('AWS_S3_ENDPOINT')\n",
    "region_name = os.environ.get('AWS_DEFAULT_REGION')\n",
    "bucket_name = os.environ.get('AWS_S3_BUCKET')\n",
    "\n",
    "# Check if all required environment variables are set\n",
    "if not all([aws_access_key_id, aws_secret_access_key, endpoint_url, region_name, bucket_name]):\n",
    "    raise ValueError(\"One or more data connection variables are empty. \"\n",
    "                     \"Please check your data connection to an S3 bucket.\")\n",
    "\n",
    "# Create a session and S3 resource\n",
    "session = boto3.session.Session(aws_access_key_id=aws_access_key_id,\n",
    "                                aws_secret_access_key=aws_secret_access_key)\n",
    "\n",
    "s3_resource = session.resource(\n",
    "    's3',\n",
    "    config=botocore.client.Config(signature_version='s3v4'),\n",
    "    endpoint_url=endpoint_url,\n",
    "    region_name=region_name)\n",
    "\n",
    "bucket = s3_resource.Bucket(bucket_name)\n",
    "\n",
    "\n",
    "def upload_file_to_s3(local_file_path, s3_key):\n",
    "    \"\"\"\n",
    "    Uploads a single file to S3.\n",
    "    \n",
    "    Parameters:\n",
    "    - local_file_path: Path to the local file to upload.\n",
    "    - s3_key: Path within the S3 bucket to store the file.\n",
    "    \"\"\"\n",
    "    if not os.path.isfile(local_file_path):\n",
    "        raise ValueError(f\"The file '{local_file_path}' does not exist.\")\n",
    "    \n",
    "    print(f\"Uploading {local_file_path} to s3://{bucket_name}/{s3_key}\")\n",
    "    bucket.upload_file(local_file_path, s3_key)\n",
    "    print(f\"File uploaded successfully to s3://{bucket_name}/{s3_key}\")\n",
    "    return 1  # Return 1 since only one file is uploaded\n",
    "\n",
    "\n",
    "def list_objects(prefix):\n",
    "    \"\"\"\n",
    "    Lists all objects in the S3 bucket with a given prefix.\n",
    "    \n",
    "    Parameters:\n",
    "    - prefix: The prefix to filter objects in the S3 bucket.\n",
    "    \"\"\"\n",
    "    filter = bucket.objects.filter(Prefix=prefix)\n",
    "    for obj in filter.all():\n",
    "        print(obj.key)\n",
    "\n",
    "\n",
    "# Example usage of uploading specific files\n",
    "# List of files to upload\n",
    "files_to_upload = [\n",
    "    \"models/1/xgb_classifier.onnx\",  # Specify each file path here\n",
    "]\n",
    "\n",
    "# Check if the files exist locally and upload them individually\n",
    "for file_path in files_to_upload:\n",
    "    # Extract the relative path within the bucket\n",
    "    s3_key = file_path  # Adjust if you want a different path in S3\n",
    "    upload_file_to_s3(file_path, s3_key)\n",
    "\n",
    "# List the uploaded files in S3\n",
    "print(\"\\nUploaded files in S3 under 'models':\")\n",
    "list_objects(\"models\")\n"
   ]
  },
  {
   "cell_type": "code",
   "execution_count": null,
   "id": "571be000-a72a-4c06-a422-92fcc8f0d6c9",
   "metadata": {},
   "outputs": [],
   "source": []
  }
 ],
 "metadata": {
  "kernelspec": {
   "display_name": "Python 3.11",
   "language": "python",
   "name": "python3"
  },
  "language_info": {
   "codemirror_mode": {
    "name": "ipython",
    "version": 3
   },
   "file_extension": ".py",
   "mimetype": "text/x-python",
   "name": "python",
   "nbconvert_exporter": "python",
   "pygments_lexer": "ipython3",
   "version": "3.11.7"
  }
 },
 "nbformat": 4,
 "nbformat_minor": 5
}
