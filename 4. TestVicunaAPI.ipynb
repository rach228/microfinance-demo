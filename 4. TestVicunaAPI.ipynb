{
 "cells": [
  {
   "cell_type": "code",
   "execution_count": 3,
   "id": "369a1524-7b32-47e0-b11f-edf6554da3e8",
   "metadata": {},
   "outputs": [
    {
     "name": "stdout",
     "output_type": "stream",
     "text": [
      "Sending request to the Vicuna model...\n",
      "Failed with status code: 404\n",
      "Response: {\"object\":\"error\",\"message\":\"The model `vicuna-llm` does not exist.\",\"type\":\"NotFoundError\",\"param\":null,\"code\":404}\n"
     ]
    },
    {
     "name": "stderr",
     "output_type": "stream",
     "text": [
      "/opt/app-root/lib64/python3.11/site-packages/urllib3/connectionpool.py:1064: InsecureRequestWarning: Unverified HTTPS request is being made to host 'vicuna-llm.demo.svc.cluster.local'. Adding certificate verification is strongly advised. See: https://urllib3.readthedocs.io/en/1.26.x/advanced-usage.html#ssl-warnings\n",
      "  warnings.warn(\n"
     ]
    }
   ],
   "source": [
    "import requests\n",
    "import json\n",
    "\n",
    "# Inference endpoint URL\n",
    "inference_url = \"https://vicuna-llm.demo.svc.cluster.local:443/v1/chat/completions\"\n",
    "\n",
    "# Example payload to send to the Vicuna model\n",
    "payload = {\n",
    "    \"model\": \"vicuna-llm\",  # Replace with the specific model name if required\n",
    "    \"messages\": [\n",
    "        {\n",
    "            \"role\": \"system\",\n",
    "            \"content\": \"You are a helpful assistant.\"\n",
    "        },\n",
    "        {\n",
    "            \"role\": \"user\",\n",
    "            \"content\": \"Summarize the following text: 'The Vicuna model is a powerful large language model optimized for natural language processing tasks.'\"\n",
    "        }\n",
    "    ],\n",
    "    \"temperature\": 0.7,  # Adjust for response randomness\n",
    "    \"top_p\": 0.9,        # Adjust for nucleus sampling\n",
    "    \"max_tokens\": 300    # Maximum number of tokens in the response\n",
    "}\n",
    "\n",
    "# Headers for the API request\n",
    "headers = {\n",
    "    \"Content-Type\": \"application/json\"\n",
    "}\n",
    "\n",
    "# Function to send a request to the API\n",
    "def test_vicuna_inference(url, payload):\n",
    "    try:\n",
    "        print(\"Sending request to the Vicuna model...\")\n",
    "        response = requests.post(url, headers=headers, data=json.dumps(payload), verify=False)\n",
    "\n",
    "        # Check if the response is successful\n",
    "        if response.status_code == 200:\n",
    "            print(\"Response from Vicuna:\")\n",
    "            response_data = response.json()\n",
    "            print(json.dumps(response_data, indent=4))\n",
    "        else:\n",
    "            print(f\"Failed with status code: {response.status_code}\")\n",
    "            print(\"Response:\", response.text)\n",
    "    except requests.RequestException as e:\n",
    "        print(f\"An error occurred: {e}\")\n",
    "\n",
    "# Test the API\n",
    "test_vicuna_inference(inference_url, payload)"
   ]
  },
  {
   "cell_type": "code",
   "execution_count": null,
   "id": "cae7ea95-fb6f-46e4-960c-fb173ec42272",
   "metadata": {},
   "outputs": [],
   "source": []
  }
 ],
 "metadata": {
  "kernelspec": {
   "display_name": "Python 3.11",
   "language": "python",
   "name": "python3"
  },
  "language_info": {
   "codemirror_mode": {
    "name": "ipython",
    "version": 3
   },
   "file_extension": ".py",
   "mimetype": "text/x-python",
   "name": "python",
   "nbconvert_exporter": "python",
   "pygments_lexer": "ipython3",
   "version": "3.11.7"
  }
 },
 "nbformat": 4,
 "nbformat_minor": 5
}
